{
  "nbformat": 4,
  "nbformat_minor": 0,
  "metadata": {
    "colab": {
      "provenance": [],
      "authorship_tag": "ABX9TyPRbky2jaEoTGZlIrwtZlqJ"
    },
    "kernelspec": {
      "name": "python3",
      "display_name": "Python 3"
    },
    "language_info": {
      "name": "python"
    }
  },
  "cells": [
    {
      "cell_type": "markdown",
      "source": [
        "#### Import Dependencies"
      ],
      "metadata": {
        "id": "8svsF_FEjDw2"
      }
    },
    {
      "cell_type": "code",
      "execution_count": 2,
      "metadata": {
        "id": "WWjXVjsLgpG9"
      },
      "outputs": [],
      "source": [
        "import pandas as pd\n",
        "import numpy as np\n",
        "import matplotlib.pyplot as plt\n",
        "import scipy.stats as st\n",
        "import os\n",
        "import warnings\n",
        "from google.colab import files\n",
        "import requests"
      ]
    },
    {
      "cell_type": "markdown",
      "source": [
        "# Investment Request for UMR Expansion"
      ],
      "metadata": {
        "id": "6fPh_oZbgzY0"
      }
    },
    {
      "cell_type": "code",
      "source": [
        "def get_excel(debug_mode):\n",
        "  # Get download path\n",
        "  current_directory = os.getcwd()\n",
        "  while True:\n",
        "    try:\n",
        "      # Upload excel\n",
        "      excel_in = files.upload()\n",
        "      init_df = pd.read_excel(excel_in)\n",
        "      break\n",
        "    except ValueError:\n",
        "      print(\"No file selected or error occurred.\")\n",
        "    except NameError:\n",
        "      print(\"Press play on first box before pressing this one.\")"
      ],
      "metadata": {
        "id": "m1uIzTf0kv2X"
      },
      "execution_count": 6,
      "outputs": []
    }
  ]
}