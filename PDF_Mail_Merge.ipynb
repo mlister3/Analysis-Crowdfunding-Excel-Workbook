{
  "cells": [
    {
      "cell_type": "markdown",
      "metadata": {
        "id": "view-in-github",
        "colab_type": "text"
      },
      "source": [
        "<a href=\"https://colab.research.google.com/github/mlister3/Analysis-Crowdfunding-Excel-Workbook/blob/main/PDF_Mail_Merge.ipynb\" target=\"_parent\"><img src=\"https://colab.research.google.com/assets/colab-badge.svg\" alt=\"Open In Colab\"/></a>"
      ]
    },
    {
      "cell_type": "markdown",
      "metadata": {
        "id": "2pm3mfbXPffA"
      },
      "source": [
        "## Admissions Certification PDF Merger\n",
        "\n",
        "- This program downloads the blank certificate, asks for the excel query used for the admit letters and automatically merges, generates, and downloads all the certificates as PDFs.\n",
        "\n",
        "The latest query for 2024 Freshman and Transfer can be found [here](https://apply.r.umn.edu/manage/query/query?id=afc0ee11-90ff-412a-8924-8ab1cb44a9f1)\n",
        "\n",
        "- - -\n",
        "\n",
        "Instructions:\n",
        "\n",
        "1. When you hover your mouse over this instructions box, a play button will appear. Press the play button\n",
        "\n",
        "2. Hover your mouse over the green text below that says \"Run Program\"\n",
        "\n",
        "3. When prompted, select the MS Excel sheet recieved from the SLATE query used for the Admissions letter.\n",
        "\n",
        "4. The PDFs will automatically download as a .zip file."
      ]
    },
    {
      "cell_type": "code",
      "execution_count": 1,
      "metadata": {
        "id": "7Mlp-H20IjC-",
        "colab": {
          "base_uri": "https://localhost:8080/"
        },
        "outputId": "191abeaa-c1e6-436a-99cb-6e143b742770"
      },
      "outputs": [
        {
          "output_type": "stream",
          "name": "stdout",
          "text": [
            "... Loading required dependencies\n",
            "\u001b[2K     \u001b[90m━━━━━━━━━━━━━━━━━━━━━━━━━━━━━━━━━━━━━━━━\u001b[0m \u001b[32m232.6/232.6 kB\u001b[0m \u001b[31m2.0 MB/s\u001b[0m eta \u001b[36m0:00:00\u001b[0m\n",
            "\u001b[?25h"
          ]
        }
      ],
      "source": [
        "print(\"... Loading required dependencies\")\n",
        "!pip install PyPDF2 -q\n",
        "import PyPDF2 as pdf2\n",
        "import requests\n",
        "import os\n",
        "import time\n",
        "from google.colab import files\n",
        "import pandas as pd\n",
        "import zipfile\n",
        "\n",
        "pdf_url = \"https://drive.google.com/uc?export=download&id=1nGBWdZ7lBO2tv_OsQrOP6iXS7BsoV5di\" # Link to blank Admissions Certificate\n",
        "save_path = \"Acceptance Certificate 2024 Form.pdf\""
      ]
    },
    {
      "cell_type": "code",
      "execution_count": 2,
      "metadata": {
        "id": "fi4oOrA2J4Sv"
      },
      "outputs": [],
      "source": [
        "# Downloader function\n",
        "def download_pdfs(debug_mode, url, save_path):\n",
        "    if debug_mode != 0:\n",
        "      print(\"RUNNING IN DEBUG MODE\")\n",
        "    print(\"... Downloading Admissions Certificate from Admissions Google Drive\")\n",
        "    response = requests.get(url)\n",
        "    if response.status_code == 200:\n",
        "        with open(save_path, 'wb') as pdf_file:\n",
        "            pdf_file.write(response.content)\n",
        "        print(f\"PDF downloaded and saved to {save_path}\")\n",
        "        get_excel(debug_mode)\n",
        "    elif debug_mode != 0:\n",
        "        print(f\"Failed to download PDF from {url}, Status code: {response.status_code}\")\n",
        "    else:\n",
        "        print(\"Failed to download PDF\")"
      ]
    },
    {
      "cell_type": "code",
      "execution_count": 3,
      "metadata": {
        "id": "9S5orDjmS_MZ"
      },
      "outputs": [],
      "source": [
        "def get_excel(debug_mode):\n",
        "  # Get download path\n",
        "  current_directory = os.getcwd()\n",
        "\n",
        "  # Get download path for PDF\n",
        "  pdf_path = os.path.join(current_directory, save_path)\n",
        "\n",
        "  print(\"... Preparing to recieve merging Excel File\")\n",
        "  print(\"Upload Excel file by clicking the button below: VVV\")\n",
        "  while True:\n",
        "    try:\n",
        "      # Upload list\n",
        "      mail_list_upload = files.upload()\n",
        "\n",
        "      file_name, file_content = next(iter(mail_list_upload.items()))\n",
        "      # Write the content to a file\n",
        "      with open(file_name, 'wb') as f:\n",
        "        f.write(file_content)\n",
        "      mail_list_df = pd.read_excel(file_name)\n",
        "      break\n",
        "    except ValueError:\n",
        "      print(\"No file selected or error occurred.\")\n",
        "    except NameError:\n",
        "      print(\"Press play on first box before pressing this one.\")\n",
        "\n",
        "  print(\"Verify upload integrity by reviewing the column names in the frame below.\")\n",
        "  mail_list_columns = mail_list_df.columns\n",
        "  for column in mail_list_columns:\n",
        "    print(\"... column \" + column)\n",
        "\n",
        "  generate_admits(debug_mode, mail_list_df, pdf_path)"
      ]
    },
    {
      "cell_type": "code",
      "execution_count": 4,
      "metadata": {
        "id": "nBOucGmxmG4-"
      },
      "outputs": [],
      "source": [
        "def generate_admits(debug_mode, mail_list_df, pdf_path):\n",
        "  # Calculate number of files that will be generated\n",
        "  max_index = len(mail_list_df)\n",
        "  zip_list = []\n",
        "  print(f\"... The list contains {max_index} student(s) where Admissions Certificates will be generated\")\n",
        "\n",
        "  # Open the PDF file\n",
        "  with open(pdf_path, 'rb') as source:\n",
        "    reader = pdf2.PdfReader(source)\n",
        "    #final_merger = pdf2.PdfMerger()\n",
        "\n",
        "    for admitted_student, row in mail_list_df.iterrows():\n",
        "      name_index = str(row['Person Preferred'] + \" \" + row['Person Last'])\n",
        "      various_fields = {'#FutureRaptor': name_index}\n",
        "      writer = pdf2.PdfWriter()\n",
        "      writer.append_pages_from_reader(reader, lambda admitted_student: writer.update_page_form_field_values(admitted_student, various_fields, 1))\n",
        "      save_name_individual = str(name_index) + \" Certificate.pdf\"\n",
        "      zip_list.append(save_name_individual)\n",
        "      with open(save_name_individual, 'wb') as output_pdf_file:\n",
        "        writer.write(output_pdf_file)\n",
        "        writer.close()\n",
        "\n",
        "  zip_n_download(zip_list, debug_mode)"
      ]
    },
    {
      "cell_type": "code",
      "source": [
        "def zip_n_download(zip_list, debug_mode):\n",
        "  # Create a zip file and add PDFs to it\n",
        "  with zipfile.ZipFile('Completed Admit Certificates.zip', 'w') as zipf:\n",
        "    for pdf_file in zip_list:\n",
        "      zipf.write(pdf_file, os.path.basename(pdf_file))\n",
        "\n",
        "  # Move the zip file to a downloadable location\n",
        "  os.rename('Completed Admit Certificates.zip', '/content/Completed Admit Certificates.zip')\n",
        "  files.download('Completed Admit Certificates.zip')"
      ],
      "metadata": {
        "id": "oaS5leDNMPQ7"
      },
      "execution_count": 5,
      "outputs": []
    },
    {
      "cell_type": "markdown",
      "metadata": {
        "id": "Y7EGb1kfDPCm"
      },
      "source": [
        "## Run Merger"
      ]
    },
    {
      "cell_type": "code",
      "execution_count": 6,
      "metadata": {
        "id": "6-ccqB76PIVf",
        "colab": {
          "base_uri": "https://localhost:8080/",
          "height": 489
        },
        "outputId": "83efc7ff-5820-465a-c5ad-feb0641291d3"
      },
      "outputs": [
        {
          "output_type": "stream",
          "name": "stdout",
          "text": [
            "... Downloading Admissions Certificate from Admissions Google Drive\n",
            "PDF downloaded and saved to Acceptance Certificate 2024 Form.pdf\n",
            "... Preparing to recieve merging Excel File\n",
            "Upload Excel file by clicking the button below: VVV\n"
          ]
        },
        {
          "output_type": "display_data",
          "data": {
            "text/plain": [
              "<IPython.core.display.HTML object>"
            ],
            "text/html": [
              "\n",
              "     <input type=\"file\" id=\"files-0ab4a9e9-b2f0-4f7c-b8e0-20c7730e6b58\" name=\"files[]\" multiple disabled\n",
              "        style=\"border:none\" />\n",
              "     <output id=\"result-0ab4a9e9-b2f0-4f7c-b8e0-20c7730e6b58\">\n",
              "      Upload widget is only available when the cell has been executed in the\n",
              "      current browser session. Please rerun this cell to enable.\n",
              "      </output>\n",
              "      <script>// Copyright 2017 Google LLC\n",
              "//\n",
              "// Licensed under the Apache License, Version 2.0 (the \"License\");\n",
              "// you may not use this file except in compliance with the License.\n",
              "// You may obtain a copy of the License at\n",
              "//\n",
              "//      http://www.apache.org/licenses/LICENSE-2.0\n",
              "//\n",
              "// Unless required by applicable law or agreed to in writing, software\n",
              "// distributed under the License is distributed on an \"AS IS\" BASIS,\n",
              "// WITHOUT WARRANTIES OR CONDITIONS OF ANY KIND, either express or implied.\n",
              "// See the License for the specific language governing permissions and\n",
              "// limitations under the License.\n",
              "\n",
              "/**\n",
              " * @fileoverview Helpers for google.colab Python module.\n",
              " */\n",
              "(function(scope) {\n",
              "function span(text, styleAttributes = {}) {\n",
              "  const element = document.createElement('span');\n",
              "  element.textContent = text;\n",
              "  for (const key of Object.keys(styleAttributes)) {\n",
              "    element.style[key] = styleAttributes[key];\n",
              "  }\n",
              "  return element;\n",
              "}\n",
              "\n",
              "// Max number of bytes which will be uploaded at a time.\n",
              "const MAX_PAYLOAD_SIZE = 100 * 1024;\n",
              "\n",
              "function _uploadFiles(inputId, outputId) {\n",
              "  const steps = uploadFilesStep(inputId, outputId);\n",
              "  const outputElement = document.getElementById(outputId);\n",
              "  // Cache steps on the outputElement to make it available for the next call\n",
              "  // to uploadFilesContinue from Python.\n",
              "  outputElement.steps = steps;\n",
              "\n",
              "  return _uploadFilesContinue(outputId);\n",
              "}\n",
              "\n",
              "// This is roughly an async generator (not supported in the browser yet),\n",
              "// where there are multiple asynchronous steps and the Python side is going\n",
              "// to poll for completion of each step.\n",
              "// This uses a Promise to block the python side on completion of each step,\n",
              "// then passes the result of the previous step as the input to the next step.\n",
              "function _uploadFilesContinue(outputId) {\n",
              "  const outputElement = document.getElementById(outputId);\n",
              "  const steps = outputElement.steps;\n",
              "\n",
              "  const next = steps.next(outputElement.lastPromiseValue);\n",
              "  return Promise.resolve(next.value.promise).then((value) => {\n",
              "    // Cache the last promise value to make it available to the next\n",
              "    // step of the generator.\n",
              "    outputElement.lastPromiseValue = value;\n",
              "    return next.value.response;\n",
              "  });\n",
              "}\n",
              "\n",
              "/**\n",
              " * Generator function which is called between each async step of the upload\n",
              " * process.\n",
              " * @param {string} inputId Element ID of the input file picker element.\n",
              " * @param {string} outputId Element ID of the output display.\n",
              " * @return {!Iterable<!Object>} Iterable of next steps.\n",
              " */\n",
              "function* uploadFilesStep(inputId, outputId) {\n",
              "  const inputElement = document.getElementById(inputId);\n",
              "  inputElement.disabled = false;\n",
              "\n",
              "  const outputElement = document.getElementById(outputId);\n",
              "  outputElement.innerHTML = '';\n",
              "\n",
              "  const pickedPromise = new Promise((resolve) => {\n",
              "    inputElement.addEventListener('change', (e) => {\n",
              "      resolve(e.target.files);\n",
              "    });\n",
              "  });\n",
              "\n",
              "  const cancel = document.createElement('button');\n",
              "  inputElement.parentElement.appendChild(cancel);\n",
              "  cancel.textContent = 'Cancel upload';\n",
              "  const cancelPromise = new Promise((resolve) => {\n",
              "    cancel.onclick = () => {\n",
              "      resolve(null);\n",
              "    };\n",
              "  });\n",
              "\n",
              "  // Wait for the user to pick the files.\n",
              "  const files = yield {\n",
              "    promise: Promise.race([pickedPromise, cancelPromise]),\n",
              "    response: {\n",
              "      action: 'starting',\n",
              "    }\n",
              "  };\n",
              "\n",
              "  cancel.remove();\n",
              "\n",
              "  // Disable the input element since further picks are not allowed.\n",
              "  inputElement.disabled = true;\n",
              "\n",
              "  if (!files) {\n",
              "    return {\n",
              "      response: {\n",
              "        action: 'complete',\n",
              "      }\n",
              "    };\n",
              "  }\n",
              "\n",
              "  for (const file of files) {\n",
              "    const li = document.createElement('li');\n",
              "    li.append(span(file.name, {fontWeight: 'bold'}));\n",
              "    li.append(span(\n",
              "        `(${file.type || 'n/a'}) - ${file.size} bytes, ` +\n",
              "        `last modified: ${\n",
              "            file.lastModifiedDate ? file.lastModifiedDate.toLocaleDateString() :\n",
              "                                    'n/a'} - `));\n",
              "    const percent = span('0% done');\n",
              "    li.appendChild(percent);\n",
              "\n",
              "    outputElement.appendChild(li);\n",
              "\n",
              "    const fileDataPromise = new Promise((resolve) => {\n",
              "      const reader = new FileReader();\n",
              "      reader.onload = (e) => {\n",
              "        resolve(e.target.result);\n",
              "      };\n",
              "      reader.readAsArrayBuffer(file);\n",
              "    });\n",
              "    // Wait for the data to be ready.\n",
              "    let fileData = yield {\n",
              "      promise: fileDataPromise,\n",
              "      response: {\n",
              "        action: 'continue',\n",
              "      }\n",
              "    };\n",
              "\n",
              "    // Use a chunked sending to avoid message size limits. See b/62115660.\n",
              "    let position = 0;\n",
              "    do {\n",
              "      const length = Math.min(fileData.byteLength - position, MAX_PAYLOAD_SIZE);\n",
              "      const chunk = new Uint8Array(fileData, position, length);\n",
              "      position += length;\n",
              "\n",
              "      const base64 = btoa(String.fromCharCode.apply(null, chunk));\n",
              "      yield {\n",
              "        response: {\n",
              "          action: 'append',\n",
              "          file: file.name,\n",
              "          data: base64,\n",
              "        },\n",
              "      };\n",
              "\n",
              "      let percentDone = fileData.byteLength === 0 ?\n",
              "          100 :\n",
              "          Math.round((position / fileData.byteLength) * 100);\n",
              "      percent.textContent = `${percentDone}% done`;\n",
              "\n",
              "    } while (position < fileData.byteLength);\n",
              "  }\n",
              "\n",
              "  // All done.\n",
              "  yield {\n",
              "    response: {\n",
              "      action: 'complete',\n",
              "    }\n",
              "  };\n",
              "}\n",
              "\n",
              "scope.google = scope.google || {};\n",
              "scope.google.colab = scope.google.colab || {};\n",
              "scope.google.colab._files = {\n",
              "  _uploadFiles,\n",
              "  _uploadFilesContinue,\n",
              "};\n",
              "})(self);\n",
              "</script> "
            ]
          },
          "metadata": {}
        },
        {
          "output_type": "stream",
          "name": "stdout",
          "text": [
            "Saving 2024 Admissions Letter (New Freshman & Transfer) 20240124-162310.xlsx to 2024 Admissions Letter (New Freshman & Transfer) 20240124-162310.xlsx\n",
            "Verify upload integrity by reviewing the column names in the frame below.\n",
            "... column Person Preferred\n",
            "... column Person First\n",
            "... column Person Last\n",
            "... column Person Birthdate\n",
            "... column Addresses Street Combined\n",
            "... column Addresses City\n",
            "... column Addresses Region\n",
            "... column Addresses Postal\n",
            "... column Person Student ID number\n",
            "... column Schools Name\n",
            "... column Person Email\n",
            "... column Person Mobile Phone\n",
            "... column Person Text: Opt Out\n",
            "... column Person Influencer Scholarship Intro\n",
            "... column Person Influencer Scholarship Auto Value\n",
            "... column Person Influencer Scholarship Closing\n",
            "... column Application Applicant Type\n",
            "... column Application Application Term\n",
            "... The list contains 58 student(s) where Admissions Certificates will be generated\n"
          ]
        },
        {
          "output_type": "display_data",
          "data": {
            "text/plain": [
              "<IPython.core.display.Javascript object>"
            ],
            "application/javascript": [
              "\n",
              "    async function download(id, filename, size) {\n",
              "      if (!google.colab.kernel.accessAllowed) {\n",
              "        return;\n",
              "      }\n",
              "      const div = document.createElement('div');\n",
              "      const label = document.createElement('label');\n",
              "      label.textContent = `Downloading \"${filename}\": `;\n",
              "      div.appendChild(label);\n",
              "      const progress = document.createElement('progress');\n",
              "      progress.max = size;\n",
              "      div.appendChild(progress);\n",
              "      document.body.appendChild(div);\n",
              "\n",
              "      const buffers = [];\n",
              "      let downloaded = 0;\n",
              "\n",
              "      const channel = await google.colab.kernel.comms.open(id);\n",
              "      // Send a message to notify the kernel that we're ready.\n",
              "      channel.send({})\n",
              "\n",
              "      for await (const message of channel.messages) {\n",
              "        // Send a message to notify the kernel that we're ready.\n",
              "        channel.send({})\n",
              "        if (message.buffers) {\n",
              "          for (const buffer of message.buffers) {\n",
              "            buffers.push(buffer);\n",
              "            downloaded += buffer.byteLength;\n",
              "            progress.value = downloaded;\n",
              "          }\n",
              "        }\n",
              "      }\n",
              "      const blob = new Blob(buffers, {type: 'application/binary'});\n",
              "      const a = document.createElement('a');\n",
              "      a.href = window.URL.createObjectURL(blob);\n",
              "      a.download = filename;\n",
              "      div.appendChild(a);\n",
              "      a.click();\n",
              "      div.remove();\n",
              "    }\n",
              "  "
            ]
          },
          "metadata": {}
        },
        {
          "output_type": "display_data",
          "data": {
            "text/plain": [
              "<IPython.core.display.Javascript object>"
            ],
            "application/javascript": [
              "download(\"download_a0b364ff-2ae6-444c-86fe-6159e75173cb\", \"Completed Admit Certificates.zip\", 2438667)"
            ]
          },
          "metadata": {}
        }
      ],
      "source": [
        "# Run Program\n",
        "debug_mode = 0\n",
        "download_pdfs(debug_mode, pdf_url, save_path)"
      ]
    }
  ],
  "metadata": {
    "colab": {
      "provenance": [],
      "collapsed_sections": [
        "2pm3mfbXPffA"
      ],
      "include_colab_link": true
    },
    "kernelspec": {
      "display_name": "Python 3",
      "name": "python3"
    },
    "language_info": {
      "name": "python"
    }
  },
  "nbformat": 4,
  "nbformat_minor": 0
}